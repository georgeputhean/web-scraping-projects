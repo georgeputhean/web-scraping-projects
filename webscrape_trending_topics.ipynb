{
  "nbformat": 4,
  "nbformat_minor": 0,
  "metadata": {
    "kernelspec": {
      "display_name": "Python 3",
      "language": "python",
      "name": "python3"
    },
    "language_info": {
      "codemirror_mode": {
        "name": "ipython",
        "version": 3
      },
      "file_extension": ".py",
      "mimetype": "text/x-python",
      "name": "python",
      "nbconvert_exporter": "python",
      "pygments_lexer": "ipython3",
      "version": "3.7.6"
    },
    "colab": {
      "name": "webscrape-trending-topics.ipynb",
      "provenance": [],
      "collapsed_sections": [],
      "include_colab_link": true
    }
  },
  "cells": [
    {
      "cell_type": "markdown",
      "metadata": {
        "id": "view-in-github",
        "colab_type": "text"
      },
      "source": [
        "<a href=\"https://colab.research.google.com/github/gputh001/pymonkey/blob/master/webscrape_trending_topics.ipynb\" target=\"_parent\"><img src=\"https://colab.research.google.com/assets/colab-badge.svg\" alt=\"Open In Colab\"/></a>"
      ]
    },
    {
      "cell_type": "code",
      "metadata": {
        "id": "z0z1FYVcT6qo"
      },
      "source": [
        "# Jovian Commit Essentials\n",
        "# Please retain and execute this cell without modifying the contents for `jovian.commit` to work\n",
        "!pip install jovian --upgrade -q\n",
        "import jovian\n",
        "jovian.set_project('webscrape-trending-topics')\n",
        "jovian.set_colab_id('1HSc6rSl8DSAdBNGjiIATMS7ffMx79IOs')"
      ],
      "execution_count": null,
      "outputs": []
    },
    {
      "cell_type": "markdown",
      "metadata": {
        "id": "vtHiDd5VT6qz"
      },
      "source": [
        "# webscrape-trending-topics\n",
        "\n",
        "Use the \"Run\" button to execute the code."
      ]
    },
    {
      "cell_type": "code",
      "metadata": {
        "id": "gg1KFj-NT6q0"
      },
      "source": [
        "!pip install jovian --upgrade --quiet"
      ],
      "execution_count": null,
      "outputs": []
    },
    {
      "cell_type": "code",
      "metadata": {
        "id": "MDOJD5HQT6q1"
      },
      "source": [
        "import jovian"
      ],
      "execution_count": null,
      "outputs": []
    },
    {
      "cell_type": "code",
      "metadata": {
        "colab": {
          "base_uri": "https://localhost:8080/",
          "height": 102
        },
        "id": "Pk2D-kVGT6q1",
        "outputId": "d7069a0f-dd6e-4161-aaca-55152ec0c755"
      },
      "source": [
        "# Execute this to save new versions of the notebook\n",
        "jovian.commit(project=\"webscrape-trending-topics\")"
      ],
      "execution_count": 218,
      "outputs": [
        {
          "output_type": "stream",
          "text": [
            "[jovian] Detected Colab notebook...\u001b[0m\n",
            "[jovian] Uploading colab notebook to Jovian...\u001b[0m\n",
            "[jovian] Capturing environment..\u001b[0m\n",
            "[jovian] Committed successfully! https://jovian.ai/gputh001/webscrape-trending-topics\u001b[0m\n"
          ],
          "name": "stdout"
        },
        {
          "output_type": "execute_result",
          "data": {
            "application/vnd.google.colaboratory.intrinsic+json": {
              "type": "string"
            },
            "text/plain": [
              "'https://jovian.ai/gputh001/webscrape-trending-topics'"
            ]
          },
          "metadata": {
            "tags": []
          },
          "execution_count": 218
        }
      ]
    },
    {
      "cell_type": "code",
      "metadata": {
        "id": "caToiXTiT6q1"
      },
      "source": [
        "topicurl=\"https://github.com/topics\""
      ],
      "execution_count": null,
      "outputs": []
    },
    {
      "cell_type": "code",
      "metadata": {
        "id": "TZ8aL_WOUb3z"
      },
      "source": [
        "import requests"
      ],
      "execution_count": null,
      "outputs": []
    },
    {
      "cell_type": "code",
      "metadata": {
        "id": "C3n-o3A0UiPY"
      },
      "source": [
        "topicurl=\"https://github.com/topics\"\n",
        "response=requests.get(topicurl)"
      ],
      "execution_count": null,
      "outputs": []
    },
    {
      "cell_type": "code",
      "metadata": {
        "id": "1wQgZX7-UyGr",
        "colab": {
          "base_uri": "https://localhost:8080/"
        },
        "outputId": "2128dd68-3f41-49c3-a19b-a2973d6caa1d"
      },
      "source": [
        "response.status_code"
      ],
      "execution_count": null,
      "outputs": [
        {
          "output_type": "execute_result",
          "data": {
            "text/plain": [
              "200"
            ]
          },
          "metadata": {
            "tags": []
          },
          "execution_count": 129
        }
      ]
    },
    {
      "cell_type": "code",
      "metadata": {
        "id": "Kd9314j9VvjM"
      },
      "source": [
        "pagecontent=response.text"
      ],
      "execution_count": null,
      "outputs": []
    },
    {
      "cell_type": "code",
      "metadata": {
        "id": "V-28p7e5Vzvj"
      },
      "source": [
        "with open(\"TopicWebpage.html\",'w') as f:\n",
        "  f.write(pagecontent)"
      ],
      "execution_count": null,
      "outputs": []
    },
    {
      "cell_type": "code",
      "metadata": {
        "id": "2taufL1t315H"
      },
      "source": [
        "##Beautiful Soup "
      ],
      "execution_count": null,
      "outputs": []
    },
    {
      "cell_type": "code",
      "metadata": {
        "id": "dISrd8PZ4zM3"
      },
      "source": [
        "!pip install beautifulsoup4 --upgrade --quiet"
      ],
      "execution_count": null,
      "outputs": []
    },
    {
      "cell_type": "code",
      "metadata": {
        "id": "owcLQph05JwE"
      },
      "source": [
        "from bs4 import BeautifulSoup"
      ],
      "execution_count": null,
      "outputs": []
    },
    {
      "cell_type": "code",
      "metadata": {
        "id": "RUmOZcjFxkU0"
      },
      "source": [
        "topicurl=\"https://github.com/topics\"\n",
        "response=requests.get(topicurl)\n",
        "pagecontent=response.text\n",
        "parsedhtml = BeautifulSoup(pagecontent, \"html.parser\")\n",
        "titletags=parsedhtml.find_all('p',{\"class\":\"f3 lh-condensed mb-0 mt-1 Link--primary\"})\n",
        "titles=[]\n",
        "for title in titletags:\n",
        "  titles.append(title.text)\n",
        "desctags=parsedhtml.find_all('p',{\"class\":\"f5 color-text-secondary mb-0 mt-1\"})\n",
        "descs=[]\n",
        "for desc in desctags:\n",
        "  descs.append(desc.text.strip())\n",
        "links=parsedhtml.find_all('a',class_=\"d-flex no-underline\")\n",
        "urllist=[]\n",
        "for link in links:\n",
        "  url=\"https://github.com\"+link['href']\n",
        "  urllist.append(url)"
      ],
      "execution_count": null,
      "outputs": []
    },
    {
      "cell_type": "code",
      "metadata": {
        "id": "8sc03Zkm5sMd"
      },
      "source": [
        "parsedhtml = BeautifulSoup(pagecontent, \"html.parser\")"
      ],
      "execution_count": null,
      "outputs": []
    },
    {
      "cell_type": "code",
      "metadata": {
        "id": "Hvm0JBx26Xq2"
      },
      "source": [
        "titletags=parsedhtml.find_all('p',{\"class\":\"f3 lh-condensed mb-0 mt-1 Link--primary\"})"
      ],
      "execution_count": null,
      "outputs": []
    },
    {
      "cell_type": "code",
      "metadata": {
        "id": "o0mmH3Pb6blZ",
        "colab": {
          "base_uri": "https://localhost:8080/"
        },
        "outputId": "f693bd2d-91fb-4cdb-8300-d9205dfae90d"
      },
      "source": [
        "titletags"
      ],
      "execution_count": null,
      "outputs": [
        {
          "output_type": "execute_result",
          "data": {
            "text/plain": [
              "[<p class=\"f3 lh-condensed mb-0 mt-1 Link--primary\">3D</p>,\n",
              " <p class=\"f3 lh-condensed mb-0 mt-1 Link--primary\">Ajax</p>,\n",
              " <p class=\"f3 lh-condensed mb-0 mt-1 Link--primary\">Algorithm</p>,\n",
              " <p class=\"f3 lh-condensed mb-0 mt-1 Link--primary\">Amp</p>,\n",
              " <p class=\"f3 lh-condensed mb-0 mt-1 Link--primary\">Android</p>,\n",
              " <p class=\"f3 lh-condensed mb-0 mt-1 Link--primary\">Angular</p>,\n",
              " <p class=\"f3 lh-condensed mb-0 mt-1 Link--primary\">Ansible</p>,\n",
              " <p class=\"f3 lh-condensed mb-0 mt-1 Link--primary\">API</p>,\n",
              " <p class=\"f3 lh-condensed mb-0 mt-1 Link--primary\">Arduino</p>,\n",
              " <p class=\"f3 lh-condensed mb-0 mt-1 Link--primary\">ASP.NET</p>,\n",
              " <p class=\"f3 lh-condensed mb-0 mt-1 Link--primary\">Atom</p>,\n",
              " <p class=\"f3 lh-condensed mb-0 mt-1 Link--primary\">Awesome Lists</p>,\n",
              " <p class=\"f3 lh-condensed mb-0 mt-1 Link--primary\">Amazon Web Services</p>,\n",
              " <p class=\"f3 lh-condensed mb-0 mt-1 Link--primary\">Azure</p>,\n",
              " <p class=\"f3 lh-condensed mb-0 mt-1 Link--primary\">Babel</p>,\n",
              " <p class=\"f3 lh-condensed mb-0 mt-1 Link--primary\">Bash</p>,\n",
              " <p class=\"f3 lh-condensed mb-0 mt-1 Link--primary\">Bitcoin</p>,\n",
              " <p class=\"f3 lh-condensed mb-0 mt-1 Link--primary\">Bootstrap</p>,\n",
              " <p class=\"f3 lh-condensed mb-0 mt-1 Link--primary\">Bot</p>,\n",
              " <p class=\"f3 lh-condensed mb-0 mt-1 Link--primary\">C</p>,\n",
              " <p class=\"f3 lh-condensed mb-0 mt-1 Link--primary\">Chrome</p>,\n",
              " <p class=\"f3 lh-condensed mb-0 mt-1 Link--primary\">Chrome extension</p>,\n",
              " <p class=\"f3 lh-condensed mb-0 mt-1 Link--primary\">Command line interface</p>,\n",
              " <p class=\"f3 lh-condensed mb-0 mt-1 Link--primary\">Clojure</p>,\n",
              " <p class=\"f3 lh-condensed mb-0 mt-1 Link--primary\">Code quality</p>,\n",
              " <p class=\"f3 lh-condensed mb-0 mt-1 Link--primary\">Code review</p>,\n",
              " <p class=\"f3 lh-condensed mb-0 mt-1 Link--primary\">Compiler</p>,\n",
              " <p class=\"f3 lh-condensed mb-0 mt-1 Link--primary\">Continuous integration</p>,\n",
              " <p class=\"f3 lh-condensed mb-0 mt-1 Link--primary\">COVID-19</p>,\n",
              " <p class=\"f3 lh-condensed mb-0 mt-1 Link--primary\">C++</p>]"
            ]
          },
          "metadata": {
            "tags": []
          },
          "execution_count": 138
        }
      ]
    },
    {
      "cell_type": "code",
      "metadata": {
        "id": "sn_6Dyyh9Qh0"
      },
      "source": [
        "desctags=parsedhtml.find_all('p',{\"class\":\"f5 color-text-secondary mb-0 mt-1\"})"
      ],
      "execution_count": null,
      "outputs": []
    },
    {
      "cell_type": "code",
      "metadata": {
        "id": "YGUWnBQgAW65",
        "colab": {
          "base_uri": "https://localhost:8080/"
        },
        "outputId": "2f278332-3b7d-4671-f01c-ac75065d5eee"
      },
      "source": [
        "desctags[:5]"
      ],
      "execution_count": null,
      "outputs": [
        {
          "output_type": "execute_result",
          "data": {
            "text/plain": [
              "[<p class=\"f5 color-text-secondary mb-0 mt-1\">\n",
              "               3D modeling is the process of virtually developing the surface and structure of a 3D object.\n",
              "             </p>, <p class=\"f5 color-text-secondary mb-0 mt-1\">\n",
              "               Ajax is a technique for creating interactive web applications.\n",
              "             </p>, <p class=\"f5 color-text-secondary mb-0 mt-1\">\n",
              "               Algorithms are self-contained sequences that carry out a variety of tasks.\n",
              "             </p>, <p class=\"f5 color-text-secondary mb-0 mt-1\">\n",
              "               Amp is a non-blocking concurrency framework for PHP.\n",
              "             </p>, <p class=\"f5 color-text-secondary mb-0 mt-1\">\n",
              "               Android is an operating system built by Google designed for mobile devices.\n",
              "             </p>]"
            ]
          },
          "metadata": {
            "tags": []
          },
          "execution_count": 140
        }
      ]
    },
    {
      "cell_type": "code",
      "metadata": {
        "id": "_wR3cUcAAYWS"
      },
      "source": [
        "links=parsedhtml.find_all('a',class_=\"d-flex no-underline\")"
      ],
      "execution_count": null,
      "outputs": []
    },
    {
      "cell_type": "code",
      "metadata": {
        "id": "alza6IwuBMVt"
      },
      "source": [
        "urllist=[]\n",
        "for link in links:\n",
        "  url=\"https://github.com\"+link['href']\n",
        "  urllist.append(url)\n"
      ],
      "execution_count": null,
      "outputs": []
    },
    {
      "cell_type": "code",
      "metadata": {
        "id": "IW_Yg-4XBNdj",
        "colab": {
          "base_uri": "https://localhost:8080/"
        },
        "outputId": "109389eb-72ec-41c9-d271-c73a9f2c2fbd"
      },
      "source": [
        "len(urllist),len(titletags),len(desctags)"
      ],
      "execution_count": null,
      "outputs": [
        {
          "output_type": "execute_result",
          "data": {
            "text/plain": [
              "(30, 30, 30)"
            ]
          },
          "metadata": {
            "tags": []
          },
          "execution_count": 143
        }
      ]
    },
    {
      "cell_type": "code",
      "metadata": {
        "id": "q7Coir4rDzZk"
      },
      "source": [
        "titles=[]\n",
        "for title in titletags:\n",
        "  titles.append(title.text)"
      ],
      "execution_count": null,
      "outputs": []
    },
    {
      "cell_type": "code",
      "metadata": {
        "id": "HVyytLS_FB02"
      },
      "source": [
        "descs=[]\n",
        "for desc in desctags:\n",
        "  descs.append(desc.text.strip()) #strip added"
      ],
      "execution_count": null,
      "outputs": []
    },
    {
      "cell_type": "code",
      "metadata": {
        "id": "DOwoP76-FGGg",
        "colab": {
          "base_uri": "https://localhost:8080/"
        },
        "outputId": "a48b9d28-58e7-4c80-8d93-082c657bd258"
      },
      "source": [
        "descs"
      ],
      "execution_count": null,
      "outputs": [
        {
          "output_type": "execute_result",
          "data": {
            "text/plain": [
              "['3D modeling is the process of virtually developing the surface and structure of a 3D object.',\n",
              " 'Ajax is a technique for creating interactive web applications.',\n",
              " 'Algorithms are self-contained sequences that carry out a variety of tasks.',\n",
              " 'Amp is a non-blocking concurrency framework for PHP.',\n",
              " 'Android is an operating system built by Google designed for mobile devices.',\n",
              " 'Angular is an open source web application platform.',\n",
              " 'Ansible is a simple and powerful automation engine.',\n",
              " 'An API (Application Programming Interface) is a collection of protocols and subroutines for building software.',\n",
              " 'Arduino is an open source hardware and software company and maker community.',\n",
              " 'ASP.NET is a web framework for building modern web apps and services.',\n",
              " 'Atom is a open source text editor built with web technologies.',\n",
              " 'An awesome list is a list of awesome things curated by the community.',\n",
              " 'Amazon Web Services provides on-demand cloud computing platforms on a subscription basis.',\n",
              " 'Azure is a cloud computing service created by Microsoft.',\n",
              " 'Babel is a compiler for writing next generation JavaScript, today.',\n",
              " 'Bash is a shell and command language interpreter for the GNU operating system.',\n",
              " 'Bitcoin is a cryptocurrency developed by Satoshi Nakamoto.',\n",
              " 'Bootstrap is an HTML, CSS, and JavaScript framework.',\n",
              " 'A bot is an application that runs automated tasks over the Internet.',\n",
              " 'C is a general purpose programming language that first appeared in 1972.',\n",
              " 'Chrome is a web browser from the tech company Google.',\n",
              " 'Google Chrome Extensions are add-ons that allow users to customize their Chrome web browser.',\n",
              " 'A CLI, or command-line interface, is a console that helps users issue commands to a program.',\n",
              " 'Clojure is a dynamic, general-purpose programming language.',\n",
              " 'Automate your code review with style, quality, security, and test‑coverage checks when you need them.',\n",
              " 'Ensure your code meets quality standards and ship with confidence.',\n",
              " 'Compilers are software that translate higher-level programming languages to lower-level languages (e.g. machine code).',\n",
              " 'Automatically build and test your code as you push it upstream, preventing bugs from being deployed to production.',\n",
              " 'The coronavirus disease 2019 (COVID-19) is an infectious disease caused by SARS-CoV-2.',\n",
              " 'C++ is a general purpose and object-oriented programming language.']"
            ]
          },
          "metadata": {
            "tags": []
          },
          "execution_count": 146
        }
      ]
    },
    {
      "cell_type": "code",
      "metadata": {
        "id": "ox3aykFAFqnU"
      },
      "source": [
        "!pip install pandas --quiet"
      ],
      "execution_count": null,
      "outputs": []
    },
    {
      "cell_type": "code",
      "metadata": {
        "id": "o414J_neGJjb"
      },
      "source": [
        "import pandas as pd\n"
      ],
      "execution_count": null,
      "outputs": []
    },
    {
      "cell_type": "code",
      "metadata": {
        "id": "26ydE2chGiRp"
      },
      "source": [
        "dfdict={'Topic':titles,'Url':urllist,'Description':descs}\n",
        "df=pd.DataFrame(dfdict)"
      ],
      "execution_count": null,
      "outputs": []
    },
    {
      "cell_type": "code",
      "metadata": {
        "id": "24zzv6TPHYwU",
        "colab": {
          "base_uri": "https://localhost:8080/",
          "height": 343
        },
        "outputId": "8606ef73-c31b-46a1-f196-026a6405d748"
      },
      "source": [
        "df.head(10)"
      ],
      "execution_count": null,
      "outputs": [
        {
          "output_type": "execute_result",
          "data": {
            "text/html": [
              "<div>\n",
              "<style scoped>\n",
              "    .dataframe tbody tr th:only-of-type {\n",
              "        vertical-align: middle;\n",
              "    }\n",
              "\n",
              "    .dataframe tbody tr th {\n",
              "        vertical-align: top;\n",
              "    }\n",
              "\n",
              "    .dataframe thead th {\n",
              "        text-align: right;\n",
              "    }\n",
              "</style>\n",
              "<table border=\"1\" class=\"dataframe\">\n",
              "  <thead>\n",
              "    <tr style=\"text-align: right;\">\n",
              "      <th></th>\n",
              "      <th>Topic</th>\n",
              "      <th>Url</th>\n",
              "      <th>Description</th>\n",
              "    </tr>\n",
              "  </thead>\n",
              "  <tbody>\n",
              "    <tr>\n",
              "      <th>0</th>\n",
              "      <td>3D</td>\n",
              "      <td>https://github.com/topics/3d</td>\n",
              "      <td>3D modeling is the process of virtually develo...</td>\n",
              "    </tr>\n",
              "    <tr>\n",
              "      <th>1</th>\n",
              "      <td>Ajax</td>\n",
              "      <td>https://github.com/topics/ajax</td>\n",
              "      <td>Ajax is a technique for creating interactive w...</td>\n",
              "    </tr>\n",
              "    <tr>\n",
              "      <th>2</th>\n",
              "      <td>Algorithm</td>\n",
              "      <td>https://github.com/topics/algorithm</td>\n",
              "      <td>Algorithms are self-contained sequences that c...</td>\n",
              "    </tr>\n",
              "    <tr>\n",
              "      <th>3</th>\n",
              "      <td>Amp</td>\n",
              "      <td>https://github.com/topics/amphp</td>\n",
              "      <td>Amp is a non-blocking concurrency framework fo...</td>\n",
              "    </tr>\n",
              "    <tr>\n",
              "      <th>4</th>\n",
              "      <td>Android</td>\n",
              "      <td>https://github.com/topics/android</td>\n",
              "      <td>Android is an operating system built by Google...</td>\n",
              "    </tr>\n",
              "    <tr>\n",
              "      <th>5</th>\n",
              "      <td>Angular</td>\n",
              "      <td>https://github.com/topics/angular</td>\n",
              "      <td>Angular is an open source web application plat...</td>\n",
              "    </tr>\n",
              "    <tr>\n",
              "      <th>6</th>\n",
              "      <td>Ansible</td>\n",
              "      <td>https://github.com/topics/ansible</td>\n",
              "      <td>Ansible is a simple and powerful automation en...</td>\n",
              "    </tr>\n",
              "    <tr>\n",
              "      <th>7</th>\n",
              "      <td>API</td>\n",
              "      <td>https://github.com/topics/api</td>\n",
              "      <td>An API (Application Programming Interface) is ...</td>\n",
              "    </tr>\n",
              "    <tr>\n",
              "      <th>8</th>\n",
              "      <td>Arduino</td>\n",
              "      <td>https://github.com/topics/arduino</td>\n",
              "      <td>Arduino is an open source hardware and softwar...</td>\n",
              "    </tr>\n",
              "    <tr>\n",
              "      <th>9</th>\n",
              "      <td>ASP.NET</td>\n",
              "      <td>https://github.com/topics/aspnet</td>\n",
              "      <td>ASP.NET is a web framework for building modern...</td>\n",
              "    </tr>\n",
              "  </tbody>\n",
              "</table>\n",
              "</div>"
            ],
            "text/plain": [
              "       Topic  ...                                        Description\n",
              "0         3D  ...  3D modeling is the process of virtually develo...\n",
              "1       Ajax  ...  Ajax is a technique for creating interactive w...\n",
              "2  Algorithm  ...  Algorithms are self-contained sequences that c...\n",
              "3        Amp  ...  Amp is a non-blocking concurrency framework fo...\n",
              "4    Android  ...  Android is an operating system built by Google...\n",
              "5    Angular  ...  Angular is an open source web application plat...\n",
              "6    Ansible  ...  Ansible is a simple and powerful automation en...\n",
              "7        API  ...  An API (Application Programming Interface) is ...\n",
              "8    Arduino  ...  Arduino is an open source hardware and softwar...\n",
              "9    ASP.NET  ...  ASP.NET is a web framework for building modern...\n",
              "\n",
              "[10 rows x 3 columns]"
            ]
          },
          "metadata": {
            "tags": []
          },
          "execution_count": 150
        }
      ]
    },
    {
      "cell_type": "code",
      "metadata": {
        "id": "B9FhFj9WHo8C"
      },
      "source": [
        "df.to_csv('Topics File.csv')"
      ],
      "execution_count": null,
      "outputs": []
    },
    {
      "cell_type": "code",
      "metadata": {
        "id": "fMwI8OYLIMVn",
        "colab": {
          "base_uri": "https://localhost:8080/",
          "height": 35
        },
        "outputId": "4364414f-5afc-413e-f304-7739f7b28c1c"
      },
      "source": [
        "urllist[0]"
      ],
      "execution_count": null,
      "outputs": [
        {
          "output_type": "execute_result",
          "data": {
            "application/vnd.google.colaboratory.intrinsic+json": {
              "type": "string"
            },
            "text/plain": [
              "'https://github.com/topics/3d'"
            ]
          },
          "metadata": {
            "tags": []
          },
          "execution_count": 152
        }
      ]
    },
    {
      "cell_type": "code",
      "metadata": {
        "id": "623ISMXPtIPG"
      },
      "source": [
        "topicpage=requests.get(urllist[0])"
      ],
      "execution_count": null,
      "outputs": []
    },
    {
      "cell_type": "code",
      "metadata": {
        "id": "obOlzFyavoOz",
        "colab": {
          "base_uri": "https://localhost:8080/"
        },
        "outputId": "85296b13-bef4-4e6c-8961-721f88646c66"
      },
      "source": [
        "topicpage.status_code"
      ],
      "execution_count": null,
      "outputs": [
        {
          "output_type": "execute_result",
          "data": {
            "text/plain": [
              "200"
            ]
          },
          "metadata": {
            "tags": []
          },
          "execution_count": 154
        }
      ]
    },
    {
      "cell_type": "code",
      "metadata": {
        "id": "cIm7DqUIvn9a",
        "colab": {
          "base_uri": "https://localhost:8080/"
        },
        "outputId": "ff4b1096-76e3-49a7-83c5-ea2e04936bf5"
      },
      "source": [
        "len(topicpage.text)"
      ],
      "execution_count": null,
      "outputs": [
        {
          "output_type": "execute_result",
          "data": {
            "text/plain": [
              "582299"
            ]
          },
          "metadata": {
            "tags": []
          },
          "execution_count": 155
        }
      ]
    },
    {
      "cell_type": "code",
      "metadata": {
        "id": "LpHh0nnNt7xC"
      },
      "source": [
        "topichtml=BeautifulSoup(topicpage.text,\"html.parser\")"
      ],
      "execution_count": null,
      "outputs": []
    },
    {
      "cell_type": "code",
      "metadata": {
        "id": "NGvhkWiFt-OH"
      },
      "source": [
        "h_tags=topichtml.find_all('h1',{\"class\":\"f3 color-text-secondary text-normal lh-condensed\"})"
      ],
      "execution_count": null,
      "outputs": []
    },
    {
      "cell_type": "code",
      "metadata": {
        "id": "YGrnUx9SuOwT",
        "colab": {
          "base_uri": "https://localhost:8080/"
        },
        "outputId": "930df2d3-4870-47e0-c29d-7c353648fff8"
      },
      "source": [
        "len(h_tags)"
      ],
      "execution_count": null,
      "outputs": [
        {
          "output_type": "execute_result",
          "data": {
            "text/plain": [
              "30"
            ]
          },
          "metadata": {
            "tags": []
          },
          "execution_count": 158
        }
      ]
    },
    {
      "cell_type": "code",
      "metadata": {
        "id": "obFTnTgLx1BZ"
      },
      "source": [
        "reponame=h_tags[0].find_all('a',class_=\"text-bold\")"
      ],
      "execution_count": null,
      "outputs": []
    },
    {
      "cell_type": "code",
      "metadata": {
        "id": "W90_jtnAx230",
        "colab": {
          "base_uri": "https://localhost:8080/",
          "height": 35
        },
        "outputId": "fd9139d1-6204-4e12-c6a5-5585098d5733"
      },
      "source": [
        "reponame[0].text.strip()"
      ],
      "execution_count": null,
      "outputs": [
        {
          "output_type": "execute_result",
          "data": {
            "application/vnd.google.colaboratory.intrinsic+json": {
              "type": "string"
            },
            "text/plain": [
              "'three.js'"
            ]
          },
          "metadata": {
            "tags": []
          },
          "execution_count": 160
        }
      ]
    },
    {
      "cell_type": "code",
      "metadata": {
        "id": "eOUweJpP0BCU",
        "colab": {
          "base_uri": "https://localhost:8080/",
          "height": 35
        },
        "outputId": "5aa7645c-489d-4884-dca4-95ef16759872"
      },
      "source": [
        "\"https://github.com\"+reponame[0]['href']"
      ],
      "execution_count": null,
      "outputs": [
        {
          "output_type": "execute_result",
          "data": {
            "application/vnd.google.colaboratory.intrinsic+json": {
              "type": "string"
            },
            "text/plain": [
              "'https://github.com/mrdoob/three.js'"
            ]
          },
          "metadata": {
            "tags": []
          },
          "execution_count": 161
        }
      ]
    },
    {
      "cell_type": "code",
      "metadata": {
        "id": "20GvMurRzo8g"
      },
      "source": [
        "star_tags=topichtml.find_all('a',class_=\"social-count float-none\")"
      ],
      "execution_count": null,
      "outputs": []
    },
    {
      "cell_type": "code",
      "metadata": {
        "id": "u3MlQbFX0z2d",
        "colab": {
          "base_uri": "https://localhost:8080/",
          "height": 35
        },
        "outputId": "89883ba4-30d7-4155-c6e0-a9ee488ba953"
      },
      "source": [
        "star_tags[0].text.strip()"
      ],
      "execution_count": null,
      "outputs": [
        {
          "output_type": "execute_result",
          "data": {
            "application/vnd.google.colaboratory.intrinsic+json": {
              "type": "string"
            },
            "text/plain": [
              "'70.6k'"
            ]
          },
          "metadata": {
            "tags": []
          },
          "execution_count": 163
        }
      ]
    },
    {
      "cell_type": "code",
      "metadata": {
        "id": "pof5Vohr1Pci"
      },
      "source": [
        "def parse_star_cnt(star_str):\n",
        "  star_str.strip()\n",
        "  if star_str[-1]==\"k\":\n",
        "    return int(float(star_str[:-1])*1000)\n",
        "  return int(star_str)\n"
      ],
      "execution_count": null,
      "outputs": []
    },
    {
      "cell_type": "code",
      "metadata": {
        "id": "9PrZyHyP22pB",
        "colab": {
          "base_uri": "https://localhost:8080/"
        },
        "outputId": "c9a13883-95ed-4de6-9630-6bb7b7e8c53f"
      },
      "source": [
        "parse_star_cnt(star_tags[0].text.strip())"
      ],
      "execution_count": null,
      "outputs": [
        {
          "output_type": "execute_result",
          "data": {
            "text/plain": [
              "70600"
            ]
          },
          "metadata": {
            "tags": []
          },
          "execution_count": 165
        }
      ]
    },
    {
      "cell_type": "code",
      "metadata": {
        "id": "Snqgk8Qx3BAg"
      },
      "source": [
        "def get_repo_info(h_tag,star_tag):\n",
        "  a_tags=h_tag.find_all('a')\n",
        "  username=a_tags[0].text.strip()\n",
        "  repositname=a_tags[1].text.strip()\n",
        "  repourl='https://github.com'+a_tags[1]['href']\n",
        "  stars=parse_star_cnt(star_tag.text.strip())\n",
        "  return username,repositname,repourl,stars"
      ],
      "execution_count": null,
      "outputs": []
    },
    {
      "cell_type": "code",
      "metadata": {
        "id": "sLa7Kh5q679q",
        "colab": {
          "base_uri": "https://localhost:8080/"
        },
        "outputId": "754a35ff-096b-41c8-8616-e930adade47a"
      },
      "source": [
        "get_repo_info(h_tags[0],star_tags[0])"
      ],
      "execution_count": null,
      "outputs": [
        {
          "output_type": "execute_result",
          "data": {
            "text/plain": [
              "('mrdoob', 'three.js', 'https://github.com/mrdoob/three.js', 70600)"
            ]
          },
          "metadata": {
            "tags": []
          },
          "execution_count": 167
        }
      ]
    },
    {
      "cell_type": "code",
      "metadata": {
        "id": "TSEo6C9K7Oy2"
      },
      "source": [
        "topic_user_repo_dict={\n",
        "    'username':[],'repositname':[],'repourl':[],'stars':[]\n",
        "}\n",
        "for i in range(len(h_tags)):\n",
        "  repo_info=get_repo_info(h_tags[i],star_tags[i])\n",
        "  topic_user_repo_dict['username'].append(repo_info[0])\n",
        "  topic_user_repo_dict['repositname'].append(repo_info[1])\n",
        "  topic_user_repo_dict['repourl'].append(repo_info[2])\n",
        "  topic_user_repo_dict['stars'].append(repo_info[3])\n",
        "\n"
      ],
      "execution_count": null,
      "outputs": []
    },
    {
      "cell_type": "code",
      "metadata": {
        "id": "kpR49Ulv-Ln6"
      },
      "source": [
        "df1=pd.DataFrame(topic_user_repo_dict)"
      ],
      "execution_count": null,
      "outputs": []
    },
    {
      "cell_type": "code",
      "metadata": {
        "id": "xh67xesF-V9t"
      },
      "source": [
        "df1.to_csv('first_topi_3d')"
      ],
      "execution_count": null,
      "outputs": []
    },
    {
      "cell_type": "code",
      "metadata": {
        "id": "RmFxDS73-XGH",
        "colab": {
          "base_uri": "https://localhost:8080/",
          "height": 343
        },
        "outputId": "e013657d-d7ac-4a98-a9f8-ef4c4474e452"
      },
      "source": [
        "df1.head(10)"
      ],
      "execution_count": null,
      "outputs": [
        {
          "output_type": "execute_result",
          "data": {
            "text/html": [
              "<div>\n",
              "<style scoped>\n",
              "    .dataframe tbody tr th:only-of-type {\n",
              "        vertical-align: middle;\n",
              "    }\n",
              "\n",
              "    .dataframe tbody tr th {\n",
              "        vertical-align: top;\n",
              "    }\n",
              "\n",
              "    .dataframe thead th {\n",
              "        text-align: right;\n",
              "    }\n",
              "</style>\n",
              "<table border=\"1\" class=\"dataframe\">\n",
              "  <thead>\n",
              "    <tr style=\"text-align: right;\">\n",
              "      <th></th>\n",
              "      <th>username</th>\n",
              "      <th>repositname</th>\n",
              "      <th>repourl</th>\n",
              "      <th>stars</th>\n",
              "    </tr>\n",
              "  </thead>\n",
              "  <tbody>\n",
              "    <tr>\n",
              "      <th>0</th>\n",
              "      <td>mrdoob</td>\n",
              "      <td>three.js</td>\n",
              "      <td>https://github.com/mrdoob/three.js</td>\n",
              "      <td>70600</td>\n",
              "    </tr>\n",
              "    <tr>\n",
              "      <th>1</th>\n",
              "      <td>libgdx</td>\n",
              "      <td>libgdx</td>\n",
              "      <td>https://github.com/libgdx/libgdx</td>\n",
              "      <td>18400</td>\n",
              "    </tr>\n",
              "    <tr>\n",
              "      <th>2</th>\n",
              "      <td>BabylonJS</td>\n",
              "      <td>Babylon.js</td>\n",
              "      <td>https://github.com/BabylonJS/Babylon.js</td>\n",
              "      <td>14000</td>\n",
              "    </tr>\n",
              "    <tr>\n",
              "      <th>3</th>\n",
              "      <td>pmndrs</td>\n",
              "      <td>react-three-fiber</td>\n",
              "      <td>https://github.com/pmndrs/react-three-fiber</td>\n",
              "      <td>13200</td>\n",
              "    </tr>\n",
              "    <tr>\n",
              "      <th>4</th>\n",
              "      <td>aframevr</td>\n",
              "      <td>aframe</td>\n",
              "      <td>https://github.com/aframevr/aframe</td>\n",
              "      <td>12700</td>\n",
              "    </tr>\n",
              "    <tr>\n",
              "      <th>5</th>\n",
              "      <td>ssloy</td>\n",
              "      <td>tinyrenderer</td>\n",
              "      <td>https://github.com/ssloy/tinyrenderer</td>\n",
              "      <td>10700</td>\n",
              "    </tr>\n",
              "    <tr>\n",
              "      <th>6</th>\n",
              "      <td>lettier</td>\n",
              "      <td>3d-game-shaders-for-beginners</td>\n",
              "      <td>https://github.com/lettier/3d-game-shaders-for...</td>\n",
              "      <td>10200</td>\n",
              "    </tr>\n",
              "    <tr>\n",
              "      <th>7</th>\n",
              "      <td>FreeCAD</td>\n",
              "      <td>FreeCAD</td>\n",
              "      <td>https://github.com/FreeCAD/FreeCAD</td>\n",
              "      <td>9300</td>\n",
              "    </tr>\n",
              "    <tr>\n",
              "      <th>8</th>\n",
              "      <td>metafizzy</td>\n",
              "      <td>zdog</td>\n",
              "      <td>https://github.com/metafizzy/zdog</td>\n",
              "      <td>8400</td>\n",
              "    </tr>\n",
              "    <tr>\n",
              "      <th>9</th>\n",
              "      <td>CesiumGS</td>\n",
              "      <td>cesium</td>\n",
              "      <td>https://github.com/CesiumGS/cesium</td>\n",
              "      <td>7000</td>\n",
              "    </tr>\n",
              "  </tbody>\n",
              "</table>\n",
              "</div>"
            ],
            "text/plain": [
              "    username  ...  stars\n",
              "0     mrdoob  ...  70600\n",
              "1     libgdx  ...  18400\n",
              "2  BabylonJS  ...  14000\n",
              "3     pmndrs  ...  13200\n",
              "4   aframevr  ...  12700\n",
              "5      ssloy  ...  10700\n",
              "6    lettier  ...  10200\n",
              "7    FreeCAD  ...   9300\n",
              "8  metafizzy  ...   8400\n",
              "9   CesiumGS  ...   7000\n",
              "\n",
              "[10 rows x 4 columns]"
            ]
          },
          "metadata": {
            "tags": []
          },
          "execution_count": 171
        }
      ]
    },
    {
      "cell_type": "code",
      "metadata": {
        "id": "CPxUOPqR-r22"
      },
      "source": [
        "def get_repo_info(h_tag,star_tag):#(3)  \n",
        "  a_tags=h_tag.find_all('a')\n",
        "  username=a_tags[0].text.strip()\n",
        "  repositname=a_tags[1].text.strip()\n",
        "  repourl='https://github.com'+a_tags[1]['href']\n",
        "  stars=parse_star_cnt(star_tag.text.strip())\n",
        "  return username,repositname,repourl,stars\n",
        "\n",
        "# parse page one from first url (1)\n",
        "def get_topic_doc(topic_url):\n",
        "  topicpage=requests.get(topic_url)\n",
        "  # if topicpage.status_code!=200:\n",
        "  #   raise Exception(print(\"Failed to Load Code: {} on page {}\".format(topicpage.status_code,topic_url)))\n",
        "  #   pass\n",
        "  topichtml=BeautifulSoup(topicpage.text,\"html.parser\")\n",
        "  return topichtml\n",
        "\n",
        "#page star parser\n",
        "def parse_star_cnt(star_str): #(4)\n",
        "  star_str.strip()\n",
        "  if star_str[-1]==\"k\":\n",
        "    return int(float(star_str[:-1])*1000)\n",
        "  return int(star_str)\n",
        "\n",
        "\n",
        "def get_topic_repo(topichtml): #(2)\n",
        "  h_tags=topichtml.find_all('h1',{\"class\":\"f3 color-text-secondary text-normal lh-condensed\"})\n",
        "  star_tags=topichtml.find_all('a',class_=\"social-count float-none\")\n",
        "  topic_user_repo_dict={\n",
        "  'username':[],'repositname':[],'repourl':[],'stars':[]}\n",
        "  for i in range(len(h_tags)):\n",
        "    repo_info=get_repo_info(h_tags[i],star_tags[i]) #exit 3\n",
        "    topic_user_repo_dict['username'].append(repo_info[0])\n",
        "    topic_user_repo_dict['repositname'].append(repo_info[1])\n",
        "    topic_user_repo_dict['repourl'].append(repo_info[2])\n",
        "    topic_user_repo_dict['stars'].append(repo_info[3])\n",
        "  d2f=pd.DataFrame(topic_user_repo_dict,index=None)\n",
        "  return d2f\n",
        "\n",
        "import os\n",
        "\n",
        "\n",
        "\n",
        "#helper function to pick the topics one by one\n",
        "def scrape_topic_one(topic_url,topic_name):\n",
        "  df_page=get_topic_repo(get_topic_doc(topic_url))\n",
        "\n",
        "  fname=topic_name+\".csv\"\n",
        "  if os.path.exists(fname):\n",
        "    print(\"Already exists Skipping creation of File: {}\".format(fname))\n",
        "  else:\n",
        "    df_page.to_csv(fname,index=None)\n",
        "\n",
        "\n"
      ],
      "execution_count": 214,
      "outputs": []
    },
    {
      "cell_type": "markdown",
      "metadata": {
        "id": "d_o8zv0ypuxX"
      },
      "source": [
        "Get a list of all **topics**"
      ]
    },
    {
      "cell_type": "code",
      "metadata": {
        "id": "BB3Azsi4vYpT"
      },
      "source": [
        "def get_topics(parsedhtml):\n",
        "  titletags=parsedhtml.find_all('p',{\"class\":\"f3 lh-condensed mb-0 mt-1 Link--primary\"})\n",
        "  titles=[]\n",
        "  for title in titletags:\n",
        "    titles.append(title.text)\n",
        "  return titles\n",
        "\n",
        "def get_descs(parsedhtml):\n",
        "  desctags=parsedhtml.find_all('p',{\"class\":\"f5 color-text-secondary mb-0 mt-1\"})\n",
        "  descs=[]\n",
        "  for desc in desctags:\n",
        "    descs.append(desc.text.strip())\n",
        "  return descs\n",
        "\n",
        "def get_urllist(parsedhtml): \n",
        "  links=parsedhtml.find_all('a',class_=\"d-flex no-underline\")\n",
        "  urllist=[]\n",
        "  for link in links:\n",
        "    url=\"https://github.com\"+link['href']\n",
        "    urllist.append(url)\n",
        "  return urllist\n",
        "\n",
        "def scrape_topics():\n",
        "  topicurl=\"https://github.com/topics\"\n",
        "  response=requests.get(topicurl)\n",
        "  if response.status_code!=200:\n",
        "    raise Exception (\"Failed to load page {} due to {}\".format(topic_url,reponse.status_code))\n",
        "    pass\n",
        "  pagecontent=response.text\n",
        "  parsedhtml = BeautifulSoup(pagecontent, \"html.parser\")\n",
        "\n",
        "  dfdict={'Topic':get_topics(parsedhtml),'Url':get_urllist(parsedhtml),'Description':get_descs(parsedhtml)}\n",
        "  df=pd.DataFrame(dfdict,index=None)\n",
        "  return df"
      ],
      "execution_count": 210,
      "outputs": []
    },
    {
      "cell_type": "code",
      "metadata": {
        "id": "-IJKX7AEJXPy",
        "colab": {
          "base_uri": "https://localhost:8080/",
          "height": 343
        },
        "outputId": "1ef3b1c1-5c78-4fa5-9e4f-b1439d19817d"
      },
      "source": [
        "scrape_topics().head(10)"
      ],
      "execution_count": 211,
      "outputs": [
        {
          "output_type": "execute_result",
          "data": {
            "text/html": [
              "<div>\n",
              "<style scoped>\n",
              "    .dataframe tbody tr th:only-of-type {\n",
              "        vertical-align: middle;\n",
              "    }\n",
              "\n",
              "    .dataframe tbody tr th {\n",
              "        vertical-align: top;\n",
              "    }\n",
              "\n",
              "    .dataframe thead th {\n",
              "        text-align: right;\n",
              "    }\n",
              "</style>\n",
              "<table border=\"1\" class=\"dataframe\">\n",
              "  <thead>\n",
              "    <tr style=\"text-align: right;\">\n",
              "      <th></th>\n",
              "      <th>Topic</th>\n",
              "      <th>Url</th>\n",
              "      <th>Description</th>\n",
              "    </tr>\n",
              "  </thead>\n",
              "  <tbody>\n",
              "    <tr>\n",
              "      <th>0</th>\n",
              "      <td>3D</td>\n",
              "      <td>https://github.com/topics/3d</td>\n",
              "      <td>3D modeling is the process of virtually develo...</td>\n",
              "    </tr>\n",
              "    <tr>\n",
              "      <th>1</th>\n",
              "      <td>Ajax</td>\n",
              "      <td>https://github.com/topics/ajax</td>\n",
              "      <td>Ajax is a technique for creating interactive w...</td>\n",
              "    </tr>\n",
              "    <tr>\n",
              "      <th>2</th>\n",
              "      <td>Algorithm</td>\n",
              "      <td>https://github.com/topics/algorithm</td>\n",
              "      <td>Algorithms are self-contained sequences that c...</td>\n",
              "    </tr>\n",
              "    <tr>\n",
              "      <th>3</th>\n",
              "      <td>Amp</td>\n",
              "      <td>https://github.com/topics/amphp</td>\n",
              "      <td>Amp is a non-blocking concurrency framework fo...</td>\n",
              "    </tr>\n",
              "    <tr>\n",
              "      <th>4</th>\n",
              "      <td>Android</td>\n",
              "      <td>https://github.com/topics/android</td>\n",
              "      <td>Android is an operating system built by Google...</td>\n",
              "    </tr>\n",
              "    <tr>\n",
              "      <th>5</th>\n",
              "      <td>Angular</td>\n",
              "      <td>https://github.com/topics/angular</td>\n",
              "      <td>Angular is an open source web application plat...</td>\n",
              "    </tr>\n",
              "    <tr>\n",
              "      <th>6</th>\n",
              "      <td>Ansible</td>\n",
              "      <td>https://github.com/topics/ansible</td>\n",
              "      <td>Ansible is a simple and powerful automation en...</td>\n",
              "    </tr>\n",
              "    <tr>\n",
              "      <th>7</th>\n",
              "      <td>API</td>\n",
              "      <td>https://github.com/topics/api</td>\n",
              "      <td>An API (Application Programming Interface) is ...</td>\n",
              "    </tr>\n",
              "    <tr>\n",
              "      <th>8</th>\n",
              "      <td>Arduino</td>\n",
              "      <td>https://github.com/topics/arduino</td>\n",
              "      <td>Arduino is an open source hardware and softwar...</td>\n",
              "    </tr>\n",
              "    <tr>\n",
              "      <th>9</th>\n",
              "      <td>ASP.NET</td>\n",
              "      <td>https://github.com/topics/aspnet</td>\n",
              "      <td>ASP.NET is a web framework for building modern...</td>\n",
              "    </tr>\n",
              "  </tbody>\n",
              "</table>\n",
              "</div>"
            ],
            "text/plain": [
              "       Topic  ...                                        Description\n",
              "0         3D  ...  3D modeling is the process of virtually develo...\n",
              "1       Ajax  ...  Ajax is a technique for creating interactive w...\n",
              "2  Algorithm  ...  Algorithms are self-contained sequences that c...\n",
              "3        Amp  ...  Amp is a non-blocking concurrency framework fo...\n",
              "4    Android  ...  Android is an operating system built by Google...\n",
              "5    Angular  ...  Angular is an open source web application plat...\n",
              "6    Ansible  ...  Ansible is a simple and powerful automation en...\n",
              "7        API  ...  An API (Application Programming Interface) is ...\n",
              "8    Arduino  ...  Arduino is an open source hardware and softwar...\n",
              "9    ASP.NET  ...  ASP.NET is a web framework for building modern...\n",
              "\n",
              "[10 rows x 3 columns]"
            ]
          },
          "metadata": {
            "tags": []
          },
          "execution_count": 211
        }
      ]
    },
    {
      "cell_type": "markdown",
      "metadata": {
        "id": "5qXhRpkYp8IE"
      },
      "source": [
        "Get a list of all repos from **individual topic pages**"
      ]
    },
    {
      "cell_type": "code",
      "metadata": {
        "id": "g6KZzaqChMTM"
      },
      "source": [
        "def scrape_topics_repos():\n",
        "  topic_df=scrape_topics()\n",
        "  for index,row in topic_df.iterrows():\n",
        "    print(\"scraping process number: {} topic name: {} url: {} \".format(index,row['Topic'],row['Url']))\n",
        "    scrape_topic_one(row['Url'],row['Topic'])\n",
        "    print(\"sucess process number {}\".format(index))"
      ],
      "execution_count": 212,
      "outputs": []
    },
    {
      "cell_type": "code",
      "metadata": {
        "id": "Jyssnk8BIfoT",
        "colab": {
          "base_uri": "https://localhost:8080/"
        },
        "outputId": "c1a43b54-86f2-4338-faa4-9ab950ec6994"
      },
      "source": [
        "scrape_topics_repos()"
      ],
      "execution_count": 215,
      "outputs": [
        {
          "output_type": "stream",
          "text": [
            "scraping process number: 0 topic name: 3D url: https://github.com/topics/3d \n",
            "Already exists Skipping creation of File: 3D.csv\n",
            "sucess process number 0\n",
            "scraping process number: 1 topic name: Ajax url: https://github.com/topics/ajax \n",
            "Already exists Skipping creation of File: Ajax.csv\n",
            "sucess process number 1\n",
            "scraping process number: 2 topic name: Algorithm url: https://github.com/topics/algorithm \n",
            "Already exists Skipping creation of File: Algorithm.csv\n",
            "sucess process number 2\n",
            "scraping process number: 3 topic name: Amp url: https://github.com/topics/amphp \n",
            "Already exists Skipping creation of File: Amp.csv\n",
            "sucess process number 3\n",
            "scraping process number: 4 topic name: Android url: https://github.com/topics/android \n",
            "Already exists Skipping creation of File: Android.csv\n",
            "sucess process number 4\n",
            "scraping process number: 5 topic name: Angular url: https://github.com/topics/angular \n",
            "Already exists Skipping creation of File: Angular.csv\n",
            "sucess process number 5\n",
            "scraping process number: 6 topic name: Ansible url: https://github.com/topics/ansible \n",
            "Already exists Skipping creation of File: Ansible.csv\n",
            "sucess process number 6\n",
            "scraping process number: 7 topic name: API url: https://github.com/topics/api \n",
            "Already exists Skipping creation of File: API.csv\n",
            "sucess process number 7\n",
            "scraping process number: 8 topic name: Arduino url: https://github.com/topics/arduino \n",
            "Already exists Skipping creation of File: Arduino.csv\n",
            "sucess process number 8\n",
            "scraping process number: 9 topic name: ASP.NET url: https://github.com/topics/aspnet \n",
            "Already exists Skipping creation of File: ASP.NET.csv\n",
            "sucess process number 9\n",
            "scraping process number: 10 topic name: Atom url: https://github.com/topics/atom \n",
            "Already exists Skipping creation of File: Atom.csv\n",
            "sucess process number 10\n",
            "scraping process number: 11 topic name: Awesome Lists url: https://github.com/topics/awesome \n",
            "Already exists Skipping creation of File: Awesome Lists.csv\n",
            "sucess process number 11\n",
            "scraping process number: 12 topic name: Amazon Web Services url: https://github.com/topics/aws \n",
            "Already exists Skipping creation of File: Amazon Web Services.csv\n",
            "sucess process number 12\n",
            "scraping process number: 13 topic name: Azure url: https://github.com/topics/azure \n",
            "Already exists Skipping creation of File: Azure.csv\n",
            "sucess process number 13\n",
            "scraping process number: 14 topic name: Babel url: https://github.com/topics/babel \n",
            "Already exists Skipping creation of File: Babel.csv\n",
            "sucess process number 14\n",
            "scraping process number: 15 topic name: Bash url: https://github.com/topics/bash \n",
            "Already exists Skipping creation of File: Bash.csv\n",
            "sucess process number 15\n",
            "scraping process number: 16 topic name: Bitcoin url: https://github.com/topics/bitcoin \n",
            "Already exists Skipping creation of File: Bitcoin.csv\n",
            "sucess process number 16\n",
            "scraping process number: 17 topic name: Bootstrap url: https://github.com/topics/bootstrap \n",
            "Already exists Skipping creation of File: Bootstrap.csv\n",
            "sucess process number 17\n",
            "scraping process number: 18 topic name: Bot url: https://github.com/topics/bot \n",
            "Already exists Skipping creation of File: Bot.csv\n",
            "sucess process number 18\n",
            "scraping process number: 19 topic name: C url: https://github.com/topics/c \n",
            "Already exists Skipping creation of File: C.csv\n",
            "sucess process number 19\n",
            "scraping process number: 20 topic name: Chrome url: https://github.com/topics/chrome \n",
            "Already exists Skipping creation of File: Chrome.csv\n",
            "sucess process number 20\n",
            "scraping process number: 21 topic name: Chrome extension url: https://github.com/topics/chrome-extension \n",
            "Already exists Skipping creation of File: Chrome extension.csv\n",
            "sucess process number 21\n",
            "scraping process number: 22 topic name: Command line interface url: https://github.com/topics/cli \n",
            "sucess process number 22\n",
            "scraping process number: 23 topic name: Clojure url: https://github.com/topics/clojure \n",
            "sucess process number 23\n",
            "scraping process number: 24 topic name: Code quality url: https://github.com/topics/code-quality \n",
            "sucess process number 24\n",
            "scraping process number: 25 topic name: Code review url: https://github.com/topics/code-review \n",
            "sucess process number 25\n",
            "scraping process number: 26 topic name: Compiler url: https://github.com/topics/compiler \n",
            "sucess process number 26\n",
            "scraping process number: 27 topic name: Continuous integration url: https://github.com/topics/continuous-integration \n",
            "sucess process number 27\n",
            "scraping process number: 28 topic name: COVID-19 url: https://github.com/topics/covid-19 \n",
            "sucess process number 28\n",
            "scraping process number: 29 topic name: C++ url: https://github.com/topics/cpp \n",
            "sucess process number 29\n"
          ],
          "name": "stdout"
        }
      ]
    },
    {
      "cell_type": "code",
      "metadata": {
        "colab": {
          "base_uri": "https://localhost:8080/"
        },
        "id": "xvWLSIpKzr2m",
        "outputId": "c461bfd6-3c2a-4a58-b6b1-7c200af222d5"
      },
      "source": [
        "requests.get(\"https://github.com/topics/cli\")"
      ],
      "execution_count": 217,
      "outputs": [
        {
          "output_type": "execute_result",
          "data": {
            "text/plain": [
              "<Response [429]>"
            ]
          },
          "metadata": {
            "tags": []
          },
          "execution_count": 217
        }
      ]
    },
    {
      "cell_type": "code",
      "metadata": {
        "id": "bWbQTbtt5eHe"
      },
      "source": [
        ""
      ],
      "execution_count": 217,
      "outputs": []
    }
  ]
}